{
  "nbformat": 4,
  "nbformat_minor": 0,
  "metadata": {
    "colab": {
      "provenance": []
    },
    "kernelspec": {
      "name": "python3",
      "display_name": "Python 3"
    },
    "language_info": {
      "name": "python"
    }
  },
  "cells": [
    {
      "cell_type": "code",
      "execution_count": null,
      "metadata": {
        "id": "Bb6CGCMyGc6i"
      },
      "outputs": [],
      "source": [
        "import numpy as np ,matplotlib.pyplot as plt, time,scipy,os,random,math\n",
        "from scipy.interpolate import BSpline,make_interp_spline\n",
        "from scipy import interpolate\n",
        "from scipy.interpolate import interp1d\n",
        "\n",
        "\n"
      ]
    },
    {
      "cell_type": "code",
      "source": [
        "def random_initial_1D(N):\n",
        "    r=np.random.random(N)\n",
        "    r=[-1 if i<0.5 else 1 for i in r]\n",
        "    return r"
      ],
      "metadata": {
        "id": "2thitNrkITgY"
      },
      "execution_count": null,
      "outputs": []
    },
    {
      "cell_type": "code",
      "source": [
        "def flip(i):\n",
        "    s[i]=-s[i]\n",
        "    return s"
      ],
      "metadata": {
        "id": "vg5fd7R8KjLw"
      },
      "execution_count": null,
      "outputs": []
    },
    {
      "cell_type": "code",
      "source": [
        "def energy(s,N,J,h):\n",
        "    s1=0\n",
        "    l=len(s)\n",
        "    for i in range (N):\n",
        "        s1 += s[i]*s[(i+1)%l]+s[i]*s[(i-1)%l]\n",
        "    e= - h*np.sum(s) - J*s1\n",
        "    return e\n"
      ],
      "metadata": {
        "id": "PFtHdr-SK2MZ"
      },
      "execution_count": null,
      "outputs": []
    },
    {
      "cell_type": "code",
      "source": [
        "def DE(i,N,s):\n",
        "    de=2*s[i]*(s[(i-1)%N] + s[(i+1)%N])\n",
        "    return de"
      ],
      "metadata": {
        "id": "L_GXEQIYMVSx"
      },
      "execution_count": null,
      "outputs": []
    },
    {
      "cell_type": "code",
      "source": [
        "def magnet(s,N):\n",
        "    m= np.mean(s)\n",
        "    return abs(m)"
      ],
      "metadata": {
        "id": "gfNukQQ5RgZn"
      },
      "execution_count": null,
      "outputs": []
    },
    {
      "cell_type": "code",
      "source": [
        "def rand(N):\n",
        "    r=int (N*random.random())\n",
        "    return r"
      ],
      "metadata": {
        "id": "hHPtrHu_Rvfm"
      },
      "execution_count": null,
      "outputs": []
    },
    {
      "cell_type": "code",
      "source": [
        "def comparison(de,t):\n",
        "    a=math.exp(-1*de/t)\n",
        "    return a"
      ],
      "metadata": {
        "id": "PtXwFrPESEgW"
      },
      "execution_count": null,
      "outputs": []
    },
    {
      "cell_type": "code",
      "source": [
        "def nprchoice1d(N):\n",
        "    s=np.random.choice([-1,1],(N,1),p=[0.5,0.5])\n",
        "    return s"
      ],
      "metadata": {
        "id": "uCfkhoiNTP1f"
      },
      "execution_count": null,
      "outputs": []
    },
    {
      "cell_type": "code",
      "source": [
        "def main(N,N1,s,t,J,h):\n",
        "    EE= energy(s,N,J,h)\n",
        "    nn=0\n",
        "    for i in range (N1):\n",
        "        j=rand(N)\n",
        "        de=DE(j,N,s)\n",
        "        if de <= 0:\n",
        "            s=flip(j)\n",
        "            EE=EE+de\n",
        "            m=magnet(s,N)\n",
        "            mag.append(m)\n",
        "            E.append(EE/N)\n",
        "            nn +=1\n",
        "        elif de > 0 :\n",
        "            r=random.random()\n",
        "            d=comparison(de,t)\n",
        "            if r < d:\n",
        "                s=flip(j)\n",
        "                EE=EE+de\n",
        "                m=magnet(s,N)\n",
        "                mag.append(m)\n",
        "                E.append(EE/N)\n",
        "                nn +=1\n",
        "        return E,mag,nn"
      ],
      "metadata": {
        "id": "--bYd80vUhEx"
      },
      "execution_count": null,
      "outputs": []
    },
    {
      "cell_type": "code",
      "source": [
        "h=0\n",
        "J=1\n",
        "N=100\n",
        "N1=100**3\n",
        "magn=[]\n",
        "Em=[]\n",
        "T=[]\n",
        "TT=[]\n",
        "\n",
        "s=[]\n",
        "n=[]\n"
      ],
      "metadata": {
        "id": "nPapcu4CX8Hm"
      },
      "execution_count": null,
      "outputs": []
    },
    {
      "cell_type": "code",
      "source": [
        "with open (\"out.txt\",'w') as f:\n",
        "    s= random_initial_1D(N)\n",
        "    for t in np.arange(0.0,4.0,+0.1):\n",
        "        mag=[]\n",
        "        E=[]\n",
        "        E,mag,nn = main(N,N1,s,t,J,h)\n",
        "        magn.append(np.mean(mag))\n",
        "        Em.append((np.mean(E)))\n",
        "        T.append(t)\n",
        "        n.append(nn)\n",
        "\n",
        "\n",
        "f.close()"
      ],
      "metadata": {
        "colab": {
          "base_uri": "https://localhost:8080/"
        },
        "id": "sklJTRtnYn8I",
        "outputId": "0b9e0003-83d0-45fc-c647-114cb47d2318"
      },
      "execution_count": null,
      "outputs": [
        {
          "output_type": "stream",
          "name": "stderr",
          "text": [
            "/usr/local/lib/python3.7/dist-packages/ipykernel_launcher.py:2: RuntimeWarning: divide by zero encountered in double_scalars\n",
            "  \n",
            "/usr/local/lib/python3.7/dist-packages/numpy/core/fromnumeric.py:3441: RuntimeWarning: Mean of empty slice.\n",
            "  out=out, **kwargs)\n",
            "/usr/local/lib/python3.7/dist-packages/numpy/core/_methods.py:189: RuntimeWarning: invalid value encountered in double_scalars\n",
            "  ret = ret.dtype.type(ret / rcount)\n"
          ]
        }
      ]
    },
    {
      "cell_type": "code",
      "source": [
        "with open(\"out.txt\",'r') as f:\n",
        " model=scipy.interpolate.interp1d(T,Em)\n",
        " xs1=np.linspace(min(T),max(T),100)\n",
        " ys2=model(xs1)\n",
        "plt.plot(xs1,ys2,)\n",
        "plt.xlabel('T')\n",
        "plt.ylabel('Energy')\n",
        "plt.grid()\n",
        "plt.legend()\n",
        "plt.savefig(\"Energy.png\",format=\"png\",dpi=800)\n",
        "plt.show()\n",
        "plt.close()\n",
        "model=scipy.interpolate.interp1d(T,magn)\n",
        "xs1=np.linspace(min(T),max(T),100)\n",
        "ys3=model(xs1)\n",
        "plt.plot(xs1,ys3,)\n",
        "plt.xlabel('T')\n",
        "plt.ylabel('Magnetization')\n",
        "plt.grid()\n",
        "plt.legend()\n",
        "plt.savefig(\"Magnetization.png\",format=\"png\",dpi=800)\n",
        "plt.show()\n",
        "plt.close()"
      ],
      "metadata": {
        "colab": {
          "base_uri": "https://localhost:8080/",
          "height": 577
        },
        "id": "BDEvtX29lawN",
        "outputId": "0bc0d845-0880-4f3d-e00e-8f3719f73636"
      },
      "execution_count": null,
      "outputs": [
        {
          "output_type": "stream",
          "name": "stderr",
          "text": [
            "No handles with labels found to put in legend.\n"
          ]
        },
        {
          "output_type": "display_data",
          "data": {
            "text/plain": [
              "<Figure size 432x288 with 1 Axes>"
            ],
            "image/png": "[encoded data removed]"
          },
          "metadata": {
            "needs_background": "light"
          }
        },
        {
          "output_type": "stream",
          "name": "stderr",
          "text": [
            "No handles with labels found to put in legend.\n"
          ]
        },
        {
          "output_type": "display_data",
          "data": {
            "text/plain": [
              "<Figure size 432x288 with 1 Axes>"
            ],
            "image/png": "[encoded data removed]"
          },
          "metadata": {
            "needs_background": "light"
          }
        }
      ]
    }
  ]
}